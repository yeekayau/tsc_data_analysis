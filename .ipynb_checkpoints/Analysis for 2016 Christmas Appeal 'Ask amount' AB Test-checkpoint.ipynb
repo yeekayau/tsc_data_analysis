{
 "cells": [
  {
   "cell_type": "markdown",
   "metadata": {
    "nbpresent": {
     "id": "7aa6dabc-975c-424b-9483-fca73898536b"
    }
   },
   "source": [
    "# Analysis of the 2016 Christmas Appeal 'Ask' Tests\n",
    "\n",
    "In the 2016 Christmas appeal, we conducted a test on the ask amounts grid of the donation coupon. We compared our usual 'standard' 100%, 200% and 300% of the donor's highest gift in the last 12 months or Last Donation amount (whichever was higher) to an inflated ask amounts of 125%, 300% and 500%.\n",
    "\n",
    "This document provides an analysis of the test. We explore 3 main components:\n",
    "\n",
    "* Overall response rates between standard and inflated.\n",
    "* Distribution and effect on donation amounts between standard and inflated.\n",
    "* How donations to the inflated ask packs compared to the standard ask amounts."
   ]
  },
  {
   "cell_type": "code",
   "execution_count": 2,
   "metadata": {
    "collapsed": false,
    "nbpresent": {
     "id": "5bfa9467-b2cf-4584-a050-a21a097344a2"
    }
   },
   "outputs": [],
   "source": [
    "import numpy as np\n",
    "import pandas as pd\n",
    "import qgrid # library to be able to scroll through dataframe\n",
    "qgrid.nbinstall(overwrite=True)  # copies javascript dependencies to your /nbextensions folder\n",
    "\n",
    "from ggplot import *\n",
    "import matplotlib.pyplot as plt\n",
    "\n",
    "# plot graphs inline of the notebook\n",
    "%matplotlib inline\n",
    "\n",
    "df = pd.read_csv('xm16.csv')\n",
    "qgrid.show_grid(df.head(5))"
   ]
  },
  {
   "cell_type": "code",
   "execution_count": 3,
   "metadata": {
    "collapsed": false,
    "nbpresent": {
     "id": "063b57a3-7bc6-4939-9e52-142c7fcf5e6a"
    }
   },
   "outputs": [
    {
     "data": {
      "text/plain": [
       "(14369, 42)"
      ]
     },
     "execution_count": 3,
     "metadata": {},
     "output_type": "execute_result"
    }
   ],
   "source": [
    "df.shape"
   ]
  },
  {
   "cell_type": "markdown",
   "metadata": {
    "nbpresent": {
     "id": "a0a28b25-0e97-434e-b6ac-dea020cf1c5f"
    }
   },
   "source": [
    "## Comparison of Response Rates\n",
    "\n",
    "* Throughout this analysis, we consider the traditional design christmas card packs: **Pack A (std ask) vs. Pack C (inflated ask)** and Australiana design christmas card packs **Pack B (std ask) vs. Pack D (inflated ask)**."
   ]
  },
  {
   "cell_type": "code",
   "execution_count": 4,
   "metadata": {
    "collapsed": false,
    "nbpresent": {
     "id": "ac275a22-b21c-4c9e-842d-456ec81bde06"
    }
   },
   "outputs": [],
   "source": [
    "# Create column indicating donation\n",
    "df['donated'] = np.where( df['DateOfPayment'].notnull(), 1, 0)"
   ]
  },
  {
   "cell_type": "code",
   "execution_count": 5,
   "metadata": {
    "collapsed": false,
    "nbpresent": {
     "id": "8cd21057-4f39-4d0a-8bd7-81e90d186741"
    }
   },
   "outputs": [
    {
     "data": {
      "text/html": [
       "<div>\n",
       "<table border=\"1\" class=\"dataframe\">\n",
       "  <thead>\n",
       "    <tr style=\"text-align: right;\">\n",
       "      <th>donated</th>\n",
       "      <th>0</th>\n",
       "      <th>1</th>\n",
       "      <th>response_rate</th>\n",
       "    </tr>\n",
       "    <tr>\n",
       "      <th>PACK</th>\n",
       "      <th></th>\n",
       "      <th></th>\n",
       "      <th></th>\n",
       "    </tr>\n",
       "  </thead>\n",
       "  <tbody>\n",
       "    <tr>\n",
       "      <th>A</th>\n",
       "      <td>4562</td>\n",
       "      <td>514</td>\n",
       "      <td>0.112670</td>\n",
       "    </tr>\n",
       "    <tr>\n",
       "      <th>B</th>\n",
       "      <td>4314</td>\n",
       "      <td>506</td>\n",
       "      <td>0.117293</td>\n",
       "    </tr>\n",
       "    <tr>\n",
       "      <th>C</th>\n",
       "      <td>1730</td>\n",
       "      <td>377</td>\n",
       "      <td>0.217919</td>\n",
       "    </tr>\n",
       "    <tr>\n",
       "      <th>D</th>\n",
       "      <td>1739</td>\n",
       "      <td>363</td>\n",
       "      <td>0.208741</td>\n",
       "    </tr>\n",
       "    <tr>\n",
       "      <th>E</th>\n",
       "      <td>117</td>\n",
       "      <td>37</td>\n",
       "      <td>0.316239</td>\n",
       "    </tr>\n",
       "    <tr>\n",
       "      <th>F</th>\n",
       "      <td>89</td>\n",
       "      <td>21</td>\n",
       "      <td>0.235955</td>\n",
       "    </tr>\n",
       "  </tbody>\n",
       "</table>\n",
       "</div>"
      ],
      "text/plain": [
       "donated     0    1  response_rate\n",
       "PACK                             \n",
       "A        4562  514       0.112670\n",
       "B        4314  506       0.117293\n",
       "C        1730  377       0.217919\n",
       "D        1739  363       0.208741\n",
       "E         117   37       0.316239\n",
       "F          89   21       0.235955"
      ]
     },
     "execution_count": 5,
     "metadata": {},
     "output_type": "execute_result"
    }
   ],
   "source": [
    "grouped = pd.DataFrame(pd.crosstab(df['PACK'], df['donated']))\n",
    "\n",
    "grouped['response_rate'] = grouped.iloc[:,1]/grouped.iloc[:,0]\n",
    "grouped"
   ]
  },
  {
   "cell_type": "markdown",
   "metadata": {
    "nbpresent": {
     "id": "b514399c-94b8-44a3-9545-9579c2ecab99"
    }
   },
   "source": [
    "* We see that for both traditional and australiana card packs (Pack C and D), **the inflated ask packs proportionally have a much greater response rate compared to the standard ask packs, 20%+ vs. 11%**.\n",
    "\n",
    "\n",
    "* We use a standard proportions test to determine whether this observed difference is statistically significant."
   ]
  },
  {
   "cell_type": "code",
   "execution_count": 6,
   "metadata": {
    "collapsed": false
   },
   "outputs": [
    {
     "name": "stdout",
     "output_type": "stream",
     "text": [
      "740 4209\n",
      "1020 9896\n",
      "0.1758137324780233 0.103071948261924 0.12477844735909252\n",
      "0.07274178421609928\n",
      "test stat: 11.96156266012287\n",
      "Approximate p_value:1.0\n"
     ]
    }
   ],
   "source": [
    "from scipy.stats import norm, chi2_contingency\n",
    "import statsmodels.api as sm\n",
    "\n",
    "s1 = len(df.loc[((df['PACK'].isin(['C','D'])) & (df['donated']==1)),:].index)\n",
    "n1 = len(df.loc[df['PACK'].isin(['C','D']),:].index)\n",
    "\n",
    "s2 = len(df.loc[((df['PACK'].isin(['A','B'])) & (df['donated']==1)),:].index)\n",
    "n2 = len(df.loc[df['PACK'].isin(['A','B']),:].index)\n",
    "\n",
    "print(s1, n1)\n",
    "print(s2, n2)\n",
    "\n",
    "p1 = s1/n1\n",
    "p2 = s2/n2\n",
    "p = (s1 + s2)/(n1+n2)\n",
    "z = (p1-p2)/ ((p*(1-p)*((1/n1)+(1/n2)))**0.5)\n",
    "\n",
    "print(p1, p2, p)\n",
    "print(p1-p2)\n",
    "print('test stat: ' + str(z))\n",
    "\n",
    "# p-value is approximately 1, so looking to the right of this 1-p_value=0, so very significant.\n",
    "p_value = norm.cdf(z)\n",
    "\n",
    "print('Approximate p_value:' + str(p_value))"
   ]
  },
  {
   "cell_type": "markdown",
   "metadata": {},
   "source": [
    "* **The proportions test tells us that the observed difference between inflated ask packs and standard ask packs are statistically significant. I.e. there is almost no chance this difference is due to chance.**"
   ]
  },
  {
   "cell_type": "markdown",
   "metadata": {},
   "source": [
    "## Comparison of Donation Amounts between Standard ask and Inflated Ask"
   ]
  },
  {
   "cell_type": "markdown",
   "metadata": {},
   "source": [
    "Here we plot the distribution of donation amounts between the packs and observe the differences:"
   ]
  },
  {
   "cell_type": "code",
   "execution_count": 7,
   "metadata": {
    "collapsed": false,
    "nbpresent": {
     "id": "5bca488c-f82d-49c8-90c9-6a36cbfeff01"
    }
   },
   "outputs": [
    {
     "data": {
      "text/plain": [
       "(0, 150)"
      ]
     },
     "execution_count": 7,
     "metadata": {},
     "output_type": "execute_result"
    },
    {
     "data": {
      "image/png": "[encoded data removed]",
      "text/plain": [
       "<matplotlib.figure.Figure at 0xd1d8bb0>"
      ]
     },
     "metadata": {},
     "output_type": "display_data"
    },
    {
     "data": {
      "image/png": "[encoded data removed]",
      "text/plain": [
       "<matplotlib.figure.Figure at 0xd1d8af0>"
      ]
     },
     "metadata": {},
     "output_type": "display_data"
    }
   ],
   "source": [
    "df.loc[((df['PAYMENTAMOUNT']>0) & (df['PACK'].isin(['A','C']))),:].boxplot(column='PAYMENTAMOUNT', by='PACK').set_ylim([0,150])\n",
    "df.loc[((df['PAYMENTAMOUNT']>0) & (df['PACK'].isin(['B','D']))),:].boxplot(column='PAYMENTAMOUNT', by='PACK').set_ylim([0,150])"
   ]
  },
  {
   "cell_type": "markdown",
   "metadata": {},
   "source": [
    "We look at the summary statistics of the donation amounts for each pack below:"
   ]
  },
  {
   "cell_type": "code",
   "execution_count": 8,
   "metadata": {
    "collapsed": false,
    "nbpresent": {
     "id": "182b7a35-e264-47d9-ac4a-d097f51ddad9"
    }
   },
   "outputs": [
    {
     "name": "stdout",
     "output_type": "stream",
     "text": [
      "Variance of Donations Pack A:\n",
      "count     513.000000\n",
      "mean       59.230019\n",
      "std       125.494497\n",
      "min         5.000000\n",
      "25%        20.000000\n",
      "50%        30.000000\n",
      "75%        50.000000\n",
      "max      2000.000000\n",
      "Name: PAYMENTAMOUNT, dtype: float64\n",
      "Variance of Donations Pack C:\n",
      "count    377.000000\n",
      "mean      54.312997\n",
      "std       59.226554\n",
      "min        5.000000\n",
      "25%       20.000000\n",
      "50%       40.000000\n",
      "75%       60.000000\n",
      "max      500.000000\n",
      "Name: PAYMENTAMOUNT, dtype: float64\n",
      "Variance of Donations Pack B:\n",
      "count    506.000000\n",
      "mean      46.966403\n",
      "std       52.693179\n",
      "min        5.000000\n",
      "25%       20.000000\n",
      "50%       30.000000\n",
      "75%       50.000000\n",
      "max      500.000000\n",
      "Name: PAYMENTAMOUNT, dtype: float64\n",
      "Variance of Donations Pack D:\n",
      "count    362.000000\n",
      "mean      49.276243\n",
      "std       59.804619\n",
      "min        2.000000\n",
      "25%       20.000000\n",
      "50%       30.000000\n",
      "75%       50.000000\n",
      "max      600.000000\n",
      "Name: PAYMENTAMOUNT, dtype: float64\n"
     ]
    }
   ],
   "source": [
    "print('Variance of Donations Pack A:')\n",
    "print(df.loc[((df['PAYMENTAMOUNT']>0) & (df['PACK'].isin(['A']))),'PAYMENTAMOUNT'].describe())\n",
    "print('Variance of Donations Pack C:')\n",
    "print(df.loc[((df['PAYMENTAMOUNT']>0) & (df['PACK'].isin(['C']))),'PAYMENTAMOUNT'].describe())\n",
    "\n",
    "print('Variance of Donations Pack B:')\n",
    "print(df.loc[((df['PAYMENTAMOUNT']>0) & (df['PACK'].isin(['B']))),'PAYMENTAMOUNT'].describe())\n",
    "print('Variance of Donations Pack D:')\n",
    "print(df.loc[((df['PAYMENTAMOUNT']>0) & (df['PACK'].isin(['D']))),'PAYMENTAMOUNT'].describe())"
   ]
  },
  {
   "cell_type": "markdown",
   "metadata": {
    "nbpresent": {
     "id": "f4efc486-2343-41c2-83d6-b1eeca9c91aa"
    }
   },
   "source": [
    "* We see from the boxplots above and the 5-number summaries that **in general, the inflated ask packs performed well, yielding better response rates and generally higher donation amounts.** \n",
    "\n",
    "\n",
    "* Comparing Pack A and C, we see that 50% of pack A donated at \\$30 and above whilst 50% of Pack C donated at \\$40 and above. The mean donation amount from Pack A is dragged up by the maximum gift of \\$2,000.\n",
    "\n",
    "\n",
    "* Comparing pack B and D, we see that the variance of these donations are similar between the packs, but in general, pack D did yield slightly higher donation amounts. We see that the means of Pack B and D are \\$47 and \\$49 respectively, without outliers in either pack."
   ]
  },
  {
   "cell_type": "code",
   "execution_count": 9,
   "metadata": {
    "collapsed": false,
    "nbpresent": {
     "id": "8a37450d-54aa-4b05-9268-1c888e5dc276"
    }
   },
   "outputs": [
    {
     "name": "stdout",
     "output_type": "stream",
     "text": [
      "Variance of Donations Pack A:\n",
      "count     512.000000\n",
      "mean       55.439453\n",
      "std        91.620293\n",
      "min         5.000000\n",
      "25%        20.000000\n",
      "50%        30.000000\n",
      "75%        50.000000\n",
      "max      1580.000000\n",
      "Name: PAYMENTAMOUNT, dtype: float64\n"
     ]
    }
   ],
   "source": [
    "# Lets look at the spread of donations of pack A taking out the $2,000 max gift.\n",
    "print('Variance of Donations Pack A:')\n",
    "print(df.loc[((df['PAYMENTAMOUNT']>0) & (df['PACK'].isin(['A'])) & (df['PAYMENTAMOUNT']<2000)),'PAYMENTAMOUNT'].describe())"
   ]
  },
  {
   "cell_type": "markdown",
   "metadata": {},
   "source": [
    "* We see that the next highest gift is also quite high at \\$1,580, still increasing the average gift. But the average gift drops about \\$4, to levels similar to pack C.\n",
    "\n",
    "\n",
    "* **We conclude that the average gift from the inflated ask packs are higher than standard ask packs.**"
   ]
  },
  {
   "cell_type": "markdown",
   "metadata": {},
   "source": [
    "## Comparsion of donations to inflated packs to standard ask amounts\n",
    "\n",
    "We now explore in further detail how donation amounts from each pack compared to the Ask levels:"
   ]
  },
  {
   "cell_type": "code",
   "execution_count": 10,
   "metadata": {
    "collapsed": false,
    "nbpresent": {
     "id": "b4d456a0-ef3a-4e44-b290-66f8a2972144"
    }
   },
   "outputs": [
    {
     "data": {
      "text/plain": [
       "Did Not Donate       12577\n",
       "Below Ask 1            957\n",
       "Ask 1                  730\n",
       "Btw Ask1 and Ask2       57\n",
       "Ask 2                   41\n",
       "Above Ask 3              5\n",
       "Btw Ask2 and Ask3        1\n",
       "Ask 3                    1\n",
       "Name: response_level, dtype: int64"
      ]
     },
     "execution_count": 10,
     "metadata": {},
     "output_type": "execute_result"
    }
   ],
   "source": [
    "# Create new column to analyse responses to ask levels\n",
    "df['response_level'] = 'Did Not Donate'\n",
    "\n",
    "df.loc[ df['PAYMENTAMOUNT'] < df['ASK1'], 'response_level' ] = 'Below Ask 1'\n",
    "df.loc[ df['PAYMENTAMOUNT'] == df['ASK1'], 'response_level' ] = 'Ask 1'\n",
    "df.loc[ ((df['PAYMENTAMOUNT'] > df['ASK1']) & (df['PAYMENTAMOUNT'] < df['ASK2'])) , 'response_level' ] = 'Btw Ask1 and Ask2'\n",
    "df.loc[ df['PAYMENTAMOUNT'] == df['ASK2'], 'response_level' ] = 'Ask 2'\n",
    "df.loc[ ((df['PAYMENTAMOUNT'] > df['ASK2']) & (df['PAYMENTAMOUNT'] < df['ask3'])) , 'response_level' ] = 'Btw Ask2 and Ask3'\n",
    "df.loc[ df['PAYMENTAMOUNT'] == df['ask3'], 'response_level' ] = 'Ask 3'\n",
    "df.loc[ df['PAYMENTAMOUNT'] > df['ask3'], 'response_level' ] = 'Above Ask 3'\n",
    "\n",
    "df['response_level'].value_counts()"
   ]
  },
  {
   "cell_type": "code",
   "execution_count": 11,
   "metadata": {
    "collapsed": false,
    "nbpresent": {
     "id": "15d5019f-2add-43c0-ba27-cc68984353bb"
    },
    "scrolled": true
   },
   "outputs": [
    {
     "data": {
      "text/html": [
       "<div>\n",
       "<table border=\"1\" class=\"dataframe\">\n",
       "  <thead>\n",
       "    <tr style=\"text-align: right;\">\n",
       "      <th></th>\n",
       "      <th>Ask1</th>\n",
       "      <th>Ask2</th>\n",
       "      <th>PAYMENTAMOUNT</th>\n",
       "      <th>donated</th>\n",
       "      <th>response_level</th>\n",
       "    </tr>\n",
       "  </thead>\n",
       "  <tbody>\n",
       "    <tr>\n",
       "      <th>35</th>\n",
       "      <td>NaN</td>\n",
       "      <td>NaN</td>\n",
       "      <td>20.0</td>\n",
       "      <td>1</td>\n",
       "      <td>Did Not Donate</td>\n",
       "    </tr>\n",
       "    <tr>\n",
       "      <th>228</th>\n",
       "      <td>NaN</td>\n",
       "      <td>NaN</td>\n",
       "      <td>10.0</td>\n",
       "      <td>1</td>\n",
       "      <td>Did Not Donate</td>\n",
       "    </tr>\n",
       "    <tr>\n",
       "      <th>277</th>\n",
       "      <td>NaN</td>\n",
       "      <td>NaN</td>\n",
       "      <td>60.0</td>\n",
       "      <td>1</td>\n",
       "      <td>Did Not Donate</td>\n",
       "    </tr>\n",
       "  </tbody>\n",
       "</table>\n",
       "</div>"
      ],
      "text/plain": [
       "     Ask1  Ask2  PAYMENTAMOUNT  donated  response_level\n",
       "35    NaN   NaN           20.0        1  Did Not Donate\n",
       "228   NaN   NaN           10.0        1  Did Not Donate\n",
       "277   NaN   NaN           60.0        1  Did Not Donate"
      ]
     },
     "execution_count": 11,
     "metadata": {},
     "output_type": "execute_result"
    }
   ],
   "source": [
    "df.loc[((df['donated']==1) & (df['response_level']=='Did Not Donate')),['Ask1', 'Ask2', 'PAYMENTAMOUNT', 'donated', 'response_level']].head(3)"
   ]
  },
  {
   "cell_type": "markdown",
   "metadata": {
    "nbpresent": {
     "id": "8b4d06c2-6d44-4f34-ba40-3de6d93ae4a6"
    }
   },
   "source": [
    "These records are from those who donated without ask amounts. Let's update these response levels:"
   ]
  },
  {
   "cell_type": "code",
   "execution_count": 12,
   "metadata": {
    "collapsed": true,
    "nbpresent": {
     "id": "35684543-33e6-4c4c-a8ea-66e888c50fa0"
    }
   },
   "outputs": [],
   "source": [
    "df.loc[((df['donated']==1) & (df['response_level']=='Did Not Donate')), 'response_level'] = 'Unsolicited Donation'"
   ]
  },
  {
   "cell_type": "markdown",
   "metadata": {},
   "source": [
    "In the summary table below, we look at where donations to each pack fell in terms of ask amounts:"
   ]
  },
  {
   "cell_type": "code",
   "execution_count": 13,
   "metadata": {
    "collapsed": false,
    "nbpresent": {
     "id": "532eefdd-e20a-4f60-a452-4448b71624b5"
    }
   },
   "outputs": [
    {
     "data": {
      "text/html": [
       "<div>\n",
       "<table border=\"1\" class=\"dataframe\">\n",
       "  <thead>\n",
       "    <tr style=\"text-align: right;\">\n",
       "      <th>PACK</th>\n",
       "      <th>A</th>\n",
       "      <th>B</th>\n",
       "      <th>C</th>\n",
       "      <th>D</th>\n",
       "      <th>E</th>\n",
       "      <th>F</th>\n",
       "    </tr>\n",
       "    <tr>\n",
       "      <th>response_level</th>\n",
       "      <th></th>\n",
       "      <th></th>\n",
       "      <th></th>\n",
       "      <th></th>\n",
       "      <th></th>\n",
       "      <th></th>\n",
       "    </tr>\n",
       "  </thead>\n",
       "  <tbody>\n",
       "    <tr>\n",
       "      <th>Above Ask 3</th>\n",
       "      <td>4</td>\n",
       "      <td>1</td>\n",
       "      <td>0</td>\n",
       "      <td>0</td>\n",
       "      <td>0</td>\n",
       "      <td>0</td>\n",
       "    </tr>\n",
       "    <tr>\n",
       "      <th>Ask 1</th>\n",
       "      <td>262</td>\n",
       "      <td>269</td>\n",
       "      <td>94</td>\n",
       "      <td>75</td>\n",
       "      <td>20</td>\n",
       "      <td>10</td>\n",
       "    </tr>\n",
       "    <tr>\n",
       "      <th>Ask 2</th>\n",
       "      <td>21</td>\n",
       "      <td>14</td>\n",
       "      <td>2</td>\n",
       "      <td>0</td>\n",
       "      <td>3</td>\n",
       "      <td>1</td>\n",
       "    </tr>\n",
       "    <tr>\n",
       "      <th>Ask 3</th>\n",
       "      <td>1</td>\n",
       "      <td>0</td>\n",
       "      <td>0</td>\n",
       "      <td>0</td>\n",
       "      <td>0</td>\n",
       "      <td>0</td>\n",
       "    </tr>\n",
       "    <tr>\n",
       "      <th>Below Ask 1</th>\n",
       "      <td>201</td>\n",
       "      <td>203</td>\n",
       "      <td>266</td>\n",
       "      <td>271</td>\n",
       "      <td>12</td>\n",
       "      <td>4</td>\n",
       "    </tr>\n",
       "    <tr>\n",
       "      <th>Btw Ask1 and Ask2</th>\n",
       "      <td>15</td>\n",
       "      <td>18</td>\n",
       "      <td>10</td>\n",
       "      <td>13</td>\n",
       "      <td>1</td>\n",
       "      <td>0</td>\n",
       "    </tr>\n",
       "    <tr>\n",
       "      <th>Btw Ask2 and Ask3</th>\n",
       "      <td>0</td>\n",
       "      <td>1</td>\n",
       "      <td>0</td>\n",
       "      <td>0</td>\n",
       "      <td>0</td>\n",
       "      <td>0</td>\n",
       "    </tr>\n",
       "    <tr>\n",
       "      <th>Did Not Donate</th>\n",
       "      <td>4562</td>\n",
       "      <td>4314</td>\n",
       "      <td>1730</td>\n",
       "      <td>1739</td>\n",
       "      <td>117</td>\n",
       "      <td>89</td>\n",
       "    </tr>\n",
       "    <tr>\n",
       "      <th>Unsolicited Donation</th>\n",
       "      <td>10</td>\n",
       "      <td>0</td>\n",
       "      <td>5</td>\n",
       "      <td>4</td>\n",
       "      <td>1</td>\n",
       "      <td>6</td>\n",
       "    </tr>\n",
       "  </tbody>\n",
       "</table>\n",
       "</div>"
      ],
      "text/plain": [
       "PACK                     A     B     C     D    E   F\n",
       "response_level                                       \n",
       "Above Ask 3              4     1     0     0    0   0\n",
       "Ask 1                  262   269    94    75   20  10\n",
       "Ask 2                   21    14     2     0    3   1\n",
       "Ask 3                    1     0     0     0    0   0\n",
       "Below Ask 1            201   203   266   271   12   4\n",
       "Btw Ask1 and Ask2       15    18    10    13    1   0\n",
       "Btw Ask2 and Ask3        0     1     0     0    0   0\n",
       "Did Not Donate        4562  4314  1730  1739  117  89\n",
       "Unsolicited Donation    10     0     5     4    1   6"
      ]
     },
     "execution_count": 13,
     "metadata": {},
     "output_type": "execute_result"
    }
   ],
   "source": [
    "pd.crosstab(df['response_level'], df['PACK'])"
   ]
  },
  {
   "cell_type": "markdown",
   "metadata": {},
   "source": [
    "We look at the same summary by proportions:"
   ]
  },
  {
   "cell_type": "code",
   "execution_count": 14,
   "metadata": {
    "collapsed": false,
    "nbpresent": {
     "id": "66cf9a3d-37f2-4c99-9031-9608c6601a8b"
    }
   },
   "outputs": [
    {
     "data": {
      "text/html": [
       "<div>\n",
       "<table border=\"1\" class=\"dataframe\">\n",
       "  <thead>\n",
       "    <tr style=\"text-align: right;\">\n",
       "      <th>PACK</th>\n",
       "      <th>A</th>\n",
       "      <th>B</th>\n",
       "      <th>C</th>\n",
       "      <th>D</th>\n",
       "      <th>E</th>\n",
       "      <th>F</th>\n",
       "    </tr>\n",
       "    <tr>\n",
       "      <th>response_level</th>\n",
       "      <th></th>\n",
       "      <th></th>\n",
       "      <th></th>\n",
       "      <th></th>\n",
       "      <th></th>\n",
       "      <th></th>\n",
       "    </tr>\n",
       "  </thead>\n",
       "  <tbody>\n",
       "    <tr>\n",
       "      <th>Above Ask 3</th>\n",
       "      <td>0.007782</td>\n",
       "      <td>0.001976</td>\n",
       "      <td>0.000000</td>\n",
       "      <td>0.000000</td>\n",
       "      <td>0.000000</td>\n",
       "      <td>0.000000</td>\n",
       "    </tr>\n",
       "    <tr>\n",
       "      <th>Ask 1</th>\n",
       "      <td>0.509728</td>\n",
       "      <td>0.531621</td>\n",
       "      <td>0.249337</td>\n",
       "      <td>0.206612</td>\n",
       "      <td>0.540541</td>\n",
       "      <td>0.476190</td>\n",
       "    </tr>\n",
       "    <tr>\n",
       "      <th>Ask 2</th>\n",
       "      <td>0.040856</td>\n",
       "      <td>0.027668</td>\n",
       "      <td>0.005305</td>\n",
       "      <td>0.000000</td>\n",
       "      <td>0.081081</td>\n",
       "      <td>0.047619</td>\n",
       "    </tr>\n",
       "    <tr>\n",
       "      <th>Ask 3</th>\n",
       "      <td>0.001946</td>\n",
       "      <td>0.000000</td>\n",
       "      <td>0.000000</td>\n",
       "      <td>0.000000</td>\n",
       "      <td>0.000000</td>\n",
       "      <td>0.000000</td>\n",
       "    </tr>\n",
       "    <tr>\n",
       "      <th>Below Ask 1</th>\n",
       "      <td>0.391051</td>\n",
       "      <td>0.401186</td>\n",
       "      <td>0.705570</td>\n",
       "      <td>0.746556</td>\n",
       "      <td>0.324324</td>\n",
       "      <td>0.190476</td>\n",
       "    </tr>\n",
       "    <tr>\n",
       "      <th>Btw Ask1 and Ask2</th>\n",
       "      <td>0.029183</td>\n",
       "      <td>0.035573</td>\n",
       "      <td>0.026525</td>\n",
       "      <td>0.035813</td>\n",
       "      <td>0.027027</td>\n",
       "      <td>0.000000</td>\n",
       "    </tr>\n",
       "    <tr>\n",
       "      <th>Btw Ask2 and Ask3</th>\n",
       "      <td>0.000000</td>\n",
       "      <td>0.001976</td>\n",
       "      <td>0.000000</td>\n",
       "      <td>0.000000</td>\n",
       "      <td>0.000000</td>\n",
       "      <td>0.000000</td>\n",
       "    </tr>\n",
       "    <tr>\n",
       "      <th>Unsolicited Donation</th>\n",
       "      <td>0.019455</td>\n",
       "      <td>0.000000</td>\n",
       "      <td>0.013263</td>\n",
       "      <td>0.011019</td>\n",
       "      <td>0.027027</td>\n",
       "      <td>0.285714</td>\n",
       "    </tr>\n",
       "  </tbody>\n",
       "</table>\n",
       "</div>"
      ],
      "text/plain": [
       "PACK                         A         B         C         D         E  \\\n",
       "response_level                                                           \n",
       "Above Ask 3           0.007782  0.001976  0.000000  0.000000  0.000000   \n",
       "Ask 1                 0.509728  0.531621  0.249337  0.206612  0.540541   \n",
       "Ask 2                 0.040856  0.027668  0.005305  0.000000  0.081081   \n",
       "Ask 3                 0.001946  0.000000  0.000000  0.000000  0.000000   \n",
       "Below Ask 1           0.391051  0.401186  0.705570  0.746556  0.324324   \n",
       "Btw Ask1 and Ask2     0.029183  0.035573  0.026525  0.035813  0.027027   \n",
       "Btw Ask2 and Ask3     0.000000  0.001976  0.000000  0.000000  0.000000   \n",
       "Unsolicited Donation  0.019455  0.000000  0.013263  0.011019  0.027027   \n",
       "\n",
       "PACK                         F  \n",
       "response_level                  \n",
       "Above Ask 3           0.000000  \n",
       "Ask 1                 0.476190  \n",
       "Ask 2                 0.047619  \n",
       "Ask 3                 0.000000  \n",
       "Below Ask 1           0.190476  \n",
       "Btw Ask1 and Ask2     0.000000  \n",
       "Btw Ask2 and Ask3     0.000000  \n",
       "Unsolicited Donation  0.285714  "
      ]
     },
     "execution_count": 14,
     "metadata": {},
     "output_type": "execute_result"
    }
   ],
   "source": [
    "# Crosstab percentages by columns\n",
    "pd.crosstab(df.loc[df['donated']==1,'response_level'], df.loc[df['donated']==1,'PACK']).apply(lambda c: c/c.sum(), axis=0)"
   ]
  },
  {
   "cell_type": "markdown",
   "metadata": {},
   "source": [
    "And graphically:"
   ]
  },
  {
   "cell_type": "code",
   "execution_count": 43,
   "metadata": {
    "collapsed": false,
    "nbpresent": {
     "id": "7cacbc1b-fe1d-4507-a8b3-bf11900b8942"
    }
   },
   "outputs": [
    {
     "name": "stderr",
     "output_type": "stream",
     "text": [
      "C:\\Users\\yeyau\\Documents\\WinPython-32bit-3.5.2.3Qt5\\python-3.5.2\\lib\\site-packages\\ggplot\\ggplot.py:602: FutureWarning: sort(columns=....) is deprecated, use sort_values(by=.....)\n",
      "  fill_levels = self.data[[fillcol_raw, fillcol]].sort(fillcol_raw)[fillcol].unique()\n"
     ]
    },
    {
     "data": {
      "image/png": "[encoded data removed]",
      "text/plain": [
       "<matplotlib.figure.Figure at 0x18906330>"
      ]
     },
     "metadata": {},
     "output_type": "display_data"
    },
    {
     "data": {
      "text/plain": [
       "<ggplot: (25709395)>"
      ]
     },
     "execution_count": 43,
     "metadata": {},
     "output_type": "execute_result"
    }
   ],
   "source": [
    "ggplot(aes(x='response_level', fill='response_level'), data=df.loc[((df['donated']==1) & (df['PACK'].isin(['A','B','C','D']))),:]) +\\\n",
    "        geom_bar() +\\\n",
    "        ggtitle('Distribution of response_levels by Pack') +\\\n",
    "        facet_wrap('PACK')"
   ]
  },
  {
   "cell_type": "markdown",
   "metadata": {
    "nbpresent": {
     "id": "2751c17c-b2d1-4ebb-9044-bc5476670200"
    }
   },
   "source": [
    "We can see from the above cross tab and barplots that the **standard ask packs significantly have greater proportion of donors giving at the Ask1 level compared to the inflated ask packs (50%+ vs. 20-25%).** So a natural question is how the donation amounts from the inflated ask packs (which are below ask1) compare to the standard ask packs?\n",
    "\n",
    "\n",
    "We explore this question below, and compare the donation amounts from the inflated ask packs to what the standard ask amounts would have been, and observe where the donations lie (in particular, whether they were above the standard ask amounts)."
   ]
  },
  {
   "cell_type": "code",
   "execution_count": 46,
   "metadata": {
    "collapsed": false,
    "nbpresent": {
     "id": "2faaf503-9102-43ea-b488-cf4dec3f9481"
    }
   },
   "outputs": [
    {
     "name": "stderr",
     "output_type": "stream",
     "text": [
      "C:\\Users\\yeyau\\Documents\\WinPython-32bit-3.5.2.3Qt5\\python-3.5.2\\lib\\site-packages\\pandas\\core\\indexing.py:296: SettingWithCopyWarning: \n",
      "A value is trying to be set on a copy of a slice from a DataFrame.\n",
      "Try using .loc[row_indexer,col_indexer] = value instead\n",
      "\n",
      "See the caveats in the documentation: http://pandas.pydata.org/pandas-docs/stable/indexing.html#indexing-view-versus-copy\n",
      "  self.obj[key] = _infer_fill_value(value)\n",
      "C:\\Users\\yeyau\\Documents\\WinPython-32bit-3.5.2.3Qt5\\python-3.5.2\\lib\\site-packages\\pandas\\core\\indexing.py:476: SettingWithCopyWarning: \n",
      "A value is trying to be set on a copy of a slice from a DataFrame.\n",
      "Try using .loc[row_indexer,col_indexer] = value instead\n",
      "\n",
      "See the caveats in the documentation: http://pandas.pydata.org/pandas-docs/stable/indexing.html#indexing-view-versus-copy\n",
      "  self.obj[item] = s\n",
      "C:\\Users\\yeyau\\Documents\\WinPython-32bit-3.5.2.3Qt5\\python-3.5.2\\lib\\site-packages\\ipykernel\\__main__.py:9: SettingWithCopyWarning: \n",
      "A value is trying to be set on a copy of a slice from a DataFrame.\n",
      "Try using .loc[row_indexer,col_indexer] = value instead\n",
      "\n",
      "See the caveats in the documentation: http://pandas.pydata.org/pandas-docs/stable/indexing.html#indexing-view-versus-copy\n"
     ]
    },
    {
     "data": {
      "text/plain": [
       "Did Not Donate                             3478\n",
       "Below if_standardask1                       463\n",
       "Btw if_standardask1 and if_standardask2     205\n",
       "if_standardask1                              58\n",
       "Btw if_standardask2 and if_standardask3       3\n",
       "if_standardask2                               2\n",
       "Name: if_response_level, dtype: int64"
      ]
     },
     "execution_count": 46,
     "metadata": {},
     "output_type": "execute_result"
    }
   ],
   "source": [
    "inflated_df = df.loc[df['PACK'].isin(['C','D']),:]\n",
    "\n",
    "# what the if_standardask levels are.\n",
    "inflated_df.loc[:,'if_standardask1'] = inflated_df['ASK1']/1.25\n",
    "inflated_df.loc[:,'if_standardask2'] = inflated_df['ASK2']/1.25\n",
    "inflated_df.loc[:,'if_standardask3'] = inflated_df['ask3']/1.25\n",
    "\n",
    "# Create new column to analyse responses to ask levels\n",
    "inflated_df['if_response_level'] = 'Did Not Donate'\n",
    "\n",
    "inflated_df.loc[ inflated_df['PAYMENTAMOUNT'] < inflated_df['if_standardask1'], 'if_response_level' ] = 'Below if_standardask1'\n",
    "inflated_df.loc[ inflated_df['PAYMENTAMOUNT'] == inflated_df['if_standardask1'], 'if_response_level' ] = 'if_standardask1'\n",
    "inflated_df.loc[ ((inflated_df['PAYMENTAMOUNT'] > inflated_df['if_standardask1']) & (inflated_df['PAYMENTAMOUNT'] < inflated_df['if_standardask2'])) , 'if_response_level' ] = 'Btw if_standardask1 and if_standardask2'\n",
    "inflated_df.loc[ inflated_df['PAYMENTAMOUNT'] == inflated_df['if_standardask2'], 'if_response_level' ] = 'if_standardask2'\n",
    "inflated_df.loc[ ((inflated_df['PAYMENTAMOUNT'] > inflated_df['if_standardask2']) & (inflated_df['PAYMENTAMOUNT'] < inflated_df['if_standardask3'])) , 'if_response_level' ] = 'Btw if_standardask2 and if_standardask3'\n",
    "inflated_df.loc[ inflated_df['PAYMENTAMOUNT'] == inflated_df['if_standardask3'], 'if_response_level' ] = 'if_standardask3'\n",
    "inflated_df.loc[ inflated_df['PAYMENTAMOUNT'] > inflated_df['if_standardask3'], 'if_response_level' ] = 'Above if_standardask3'\n",
    "\n",
    "inflated_df['if_response_level'].value_counts()"
   ]
  },
  {
   "cell_type": "markdown",
   "metadata": {},
   "source": [
    "We look at the raw numbers below:"
   ]
  },
  {
   "cell_type": "code",
   "execution_count": 70,
   "metadata": {
    "collapsed": false,
    "nbpresent": {
     "id": "012a1976-876d-4cc0-8a36-ea04286787bf"
    }
   },
   "outputs": [
    {
     "data": {
      "text/html": [
       "<div>\n",
       "<table border=\"1\" class=\"dataframe\">\n",
       "  <thead>\n",
       "    <tr style=\"text-align: right;\">\n",
       "      <th>PACK</th>\n",
       "      <th>C</th>\n",
       "      <th>D</th>\n",
       "    </tr>\n",
       "    <tr>\n",
       "      <th>if_response_level</th>\n",
       "      <th></th>\n",
       "      <th></th>\n",
       "    </tr>\n",
       "  </thead>\n",
       "  <tbody>\n",
       "    <tr>\n",
       "      <th>Below if_standardask1</th>\n",
       "      <td>225</td>\n",
       "      <td>238</td>\n",
       "    </tr>\n",
       "    <tr>\n",
       "      <th>Btw if_standardask1 and if_standardask2</th>\n",
       "      <td>107</td>\n",
       "      <td>98</td>\n",
       "    </tr>\n",
       "    <tr>\n",
       "      <th>Btw if_standardask2 and if_standardask3</th>\n",
       "      <td>3</td>\n",
       "      <td>0</td>\n",
       "    </tr>\n",
       "    <tr>\n",
       "      <th>Did Not Donate</th>\n",
       "      <td>5</td>\n",
       "      <td>4</td>\n",
       "    </tr>\n",
       "    <tr>\n",
       "      <th>if_standardask1</th>\n",
       "      <td>36</td>\n",
       "      <td>22</td>\n",
       "    </tr>\n",
       "    <tr>\n",
       "      <th>if_standardask2</th>\n",
       "      <td>1</td>\n",
       "      <td>1</td>\n",
       "    </tr>\n",
       "  </tbody>\n",
       "</table>\n",
       "</div>"
      ],
      "text/plain": [
       "PACK                                       C    D\n",
       "if_response_level                                \n",
       "Below if_standardask1                    225  238\n",
       "Btw if_standardask1 and if_standardask2  107   98\n",
       "Btw if_standardask2 and if_standardask3    3    0\n",
       "Did Not Donate                             5    4\n",
       "if_standardask1                           36   22\n",
       "if_standardask2                            1    1"
      ]
     },
     "execution_count": 70,
     "metadata": {},
     "output_type": "execute_result"
    }
   ],
   "source": [
    "inflated_df_donated = inflated_df.loc[inflated_df['donated']==1,:]\n",
    "\n",
    "pd.crosstab(inflated_df_donated.loc[:,'if_response_level'], inflated_df_donated.loc[:,'PACK'])"
   ]
  },
  {
   "cell_type": "markdown",
   "metadata": {},
   "source": [
    "And look at the proportions:"
   ]
  },
  {
   "cell_type": "code",
   "execution_count": 49,
   "metadata": {
    "collapsed": false,
    "nbpresent": {
     "id": "80f1707e-c4b3-4cd2-a60c-879b6f272e05"
    }
   },
   "outputs": [
    {
     "data": {
      "text/html": [
       "<div>\n",
       "<table border=\"1\" class=\"dataframe\">\n",
       "  <thead>\n",
       "    <tr style=\"text-align: right;\">\n",
       "      <th>PACK</th>\n",
       "      <th>C</th>\n",
       "      <th>D</th>\n",
       "    </tr>\n",
       "    <tr>\n",
       "      <th>if_response_level</th>\n",
       "      <th></th>\n",
       "      <th></th>\n",
       "    </tr>\n",
       "  </thead>\n",
       "  <tbody>\n",
       "    <tr>\n",
       "      <th>Below if_standardask1</th>\n",
       "      <td>0.596817</td>\n",
       "      <td>0.655647</td>\n",
       "    </tr>\n",
       "    <tr>\n",
       "      <th>Btw if_standardask1 and if_standardask2</th>\n",
       "      <td>0.283820</td>\n",
       "      <td>0.269972</td>\n",
       "    </tr>\n",
       "    <tr>\n",
       "      <th>Btw if_standardask2 and if_standardask3</th>\n",
       "      <td>0.007958</td>\n",
       "      <td>0.000000</td>\n",
       "    </tr>\n",
       "    <tr>\n",
       "      <th>Did Not Donate</th>\n",
       "      <td>0.013263</td>\n",
       "      <td>0.011019</td>\n",
       "    </tr>\n",
       "    <tr>\n",
       "      <th>if_standardask1</th>\n",
       "      <td>0.095491</td>\n",
       "      <td>0.060606</td>\n",
       "    </tr>\n",
       "    <tr>\n",
       "      <th>if_standardask2</th>\n",
       "      <td>0.002653</td>\n",
       "      <td>0.002755</td>\n",
       "    </tr>\n",
       "  </tbody>\n",
       "</table>\n",
       "</div>"
      ],
      "text/plain": [
       "PACK                                            C         D\n",
       "if_response_level                                          \n",
       "Below if_standardask1                    0.596817  0.655647\n",
       "Btw if_standardask1 and if_standardask2  0.283820  0.269972\n",
       "Btw if_standardask2 and if_standardask3  0.007958  0.000000\n",
       "Did Not Donate                           0.013263  0.011019\n",
       "if_standardask1                          0.095491  0.060606\n",
       "if_standardask2                          0.002653  0.002755"
      ]
     },
     "execution_count": 49,
     "metadata": {},
     "output_type": "execute_result"
    }
   ],
   "source": [
    "pd.crosstab(inflated_df_donated.loc[:,'if_response_level'], inflated_df_donated.loc[:,'PACK']).apply(lambda c: c/c.sum(), axis=0)"
   ]
  },
  {
   "cell_type": "markdown",
   "metadata": {
    "nbpresent": {
     "id": "6076d784-e265-478e-b26c-37db71e79c94"
    }
   },
   "source": [
    "* Analysing the donations to Pack C and D compared against the Standard Ask amounts: we see from this sample that we still have proportionally more donors giving at levels lower than the standard ask 1 amounts (60-65% of donors giving less than the standard ask 1 amount vs. 40% in Packs A and B).\n",
    "\n",
    "\n",
    "* But we do see a greater proportion of donors giving at levels between the standard ask 1 amount and standard ask 2 amounts: 26-28% in Packs C and D vs. 3% in Packs A and B, and these gifts are driving up the average donation amounts.\n",
    "\n",
    "\n",
    "# Summary\n",
    "\n",
    "* **The summary of the data suggests that the inflated ask amounts yield better results compared to the standard ask amounts, increasing both response rates and average gift.**"
   ]
  }
 ],
 "metadata": {
  "anaconda-cloud": {},
  "kernelspec": {
   "display_name": "Python 3",
   "language": "python",
   "name": "python3"
  },
  "language_info": {
   "codemirror_mode": {
    "name": "ipython",
    "version": 3
   },
   "file_extension": ".py",
   "mimetype": "text/x-python",
   "name": "python",
   "nbconvert_exporter": "python",
   "pygments_lexer": "ipython3",
   "version": "3.5.2"
  },
  "nbpresent": {
   "slides": {
    "0d7c6a2b-ef04-4b23-8024-a791d51b47c6": {
     "id": "0d7c6a2b-ef04-4b23-8024-a791d51b47c6",
     "prev": "20f264b2-649d-46a4-ad38-d76e7b258e07",
     "regions": {
      "9f1fbe30-ea4c-413b-a503-9cbfd6ecc423": {
       "attrs": {
        "height": 0.8,
        "width": 0.8,
        "x": 0.1,
        "y": 0.1
       },
       "content": {
        "cell": "8b4d06c2-6d44-4f34-ba40-3de6d93ae4a6",
        "part": "whole"
       },
       "id": "9f1fbe30-ea4c-413b-a503-9cbfd6ecc423"
      }
     }
    },
    "20f264b2-649d-46a4-ad38-d76e7b258e07": {
     "id": "20f264b2-649d-46a4-ad38-d76e7b258e07",
     "prev": "cef9a5f8-3d0e-4e22-b026-1558623c4519",
     "regions": {
      "c66cf2bf-f5dc-466d-b091-549dda80992b": {
       "attrs": {
        "height": 0.8,
        "width": 0.8,
        "x": 0.1,
        "y": 0.1
       },
       "content": {
        "cell": "15d5019f-2add-43c0-ba27-cc68984353bb",
        "part": "whole"
       },
       "id": "c66cf2bf-f5dc-466d-b091-549dda80992b"
      }
     }
    },
    "28072dd5-282f-4ccf-a0ce-d5c00f4bc5cc": {
     "id": "28072dd5-282f-4ccf-a0ce-d5c00f4bc5cc",
     "prev": "c136dd51-0fbf-449f-8387-0faf1ec70d55",
     "regions": {
      "95dbdb40-15c4-44b5-afb1-7b62b2bc03f4": {
       "attrs": {
        "height": 0.8,
        "width": 0.8,
        "x": 0.1,
        "y": 0.1
       },
       "content": {
        "cell": "012a1976-876d-4cc0-8a36-ea04286787bf",
        "part": "whole"
       },
       "id": "95dbdb40-15c4-44b5-afb1-7b62b2bc03f4"
      }
     }
    },
    "3565bedc-9d0e-44b1-b46e-70c52428caa6": {
     "id": "3565bedc-9d0e-44b1-b46e-70c52428caa6",
     "prev": "c9aca087-18be-487f-9d47-3237f22ed2ed",
     "regions": {
      "7a95d7d4-541b-44f8-bbd7-f863da52c13e": {
       "attrs": {
        "height": 0.8,
        "width": 0.8,
        "x": 0.1,
        "y": 0.1
       },
       "content": {
        "cell": "6076d784-e265-478e-b26c-37db71e79c94",
        "part": "whole"
       },
       "id": "7a95d7d4-541b-44f8-bbd7-f863da52c13e"
      }
     }
    },
    "447c9a21-5ff4-47c1-bb71-fb3105abb1f2": {
     "id": "447c9a21-5ff4-47c1-bb71-fb3105abb1f2",
     "prev": "8a9e9a16-8e29-41c0-97e1-a975b20cc8a3",
     "regions": {
      "3208490e-c5b7-4782-a7a4-43a1f43059b5": {
       "attrs": {
        "height": 0.8,
        "width": 0.8,
        "x": 0.1,
        "y": 0.1
       },
       "content": {
        "cell": "7cacbc1b-fe1d-4507-a8b3-bf11900b8942",
        "part": "whole"
       },
       "id": "3208490e-c5b7-4782-a7a4-43a1f43059b5"
      }
     }
    },
    "516e219b-b903-4f9f-bbf1-6c116137de76": {
     "id": "516e219b-b903-4f9f-bbf1-6c116137de76",
     "prev": "a8a4cf22-5910-4bfa-b728-48498e8b8982",
     "regions": {
      "4524baaa-aa16-43b6-9338-6108d616eae6": {
       "attrs": {
        "height": 0.8,
        "width": 0.8,
        "x": 0.1,
        "y": 0.1
       },
       "content": {
        "cell": "182b7a35-e264-47d9-ac4a-d097f51ddad9",
        "part": "whole"
       },
       "id": "4524baaa-aa16-43b6-9338-6108d616eae6"
      }
     }
    },
    "5b3db258-2783-41c8-9e60-41b6e01d9323": {
     "id": "5b3db258-2783-41c8-9e60-41b6e01d9323",
     "prev": "447c9a21-5ff4-47c1-bb71-fb3105abb1f2",
     "regions": {
      "0cf71b00-78d2-4a07-8e9c-21ba3154264a": {
       "attrs": {
        "height": 0.8,
        "width": 0.8,
        "x": 0.1,
        "y": 0.1
       },
       "content": {
        "cell": "2751c17c-b2d1-4ebb-9044-bc5476670200",
        "part": "whole"
       },
       "id": "0cf71b00-78d2-4a07-8e9c-21ba3154264a"
      }
     }
    },
    "77bad6d4-ab6c-43c2-a9e2-76513138a4a1": {
     "id": "77bad6d4-ab6c-43c2-a9e2-76513138a4a1",
     "prev": "9fb0f10b-bef0-4f50-9938-5de658203784",
     "regions": {
      "8e5d61cb-3915-49f7-a70c-077097544be3": {
       "attrs": {
        "height": 0.8,
        "width": 0.8,
        "x": 0.1,
        "y": 0.1
       },
       "content": {
        "cell": "532eefdd-e20a-4f60-a452-4448b71624b5",
        "part": "whole"
       },
       "id": "8e5d61cb-3915-49f7-a70c-077097544be3"
      }
     }
    },
    "7e7f483c-c99f-47f3-8e71-b68b8c191e17": {
     "id": "7e7f483c-c99f-47f3-8e71-b68b8c191e17",
     "prev": "d500b642-fd1c-4bea-a5ff-9ae5c06e9c4d",
     "regions": {
      "06ea6452-c2d9-4ffe-93e7-dfd7072111fd": {
       "attrs": {
        "height": 0.8,
        "width": 0.8,
        "x": 0.1,
        "y": 0.1
       },
       "content": {
        "cell": "b514399c-94b8-44a3-9545-9579c2ecab99",
        "part": "whole"
       },
       "id": "06ea6452-c2d9-4ffe-93e7-dfd7072111fd"
      }
     }
    },
    "8a9e9a16-8e29-41c0-97e1-a975b20cc8a3": {
     "id": "8a9e9a16-8e29-41c0-97e1-a975b20cc8a3",
     "prev": "77bad6d4-ab6c-43c2-a9e2-76513138a4a1",
     "regions": {
      "9d16450e-4625-44f7-aef1-0ab702a38feb": {
       "attrs": {
        "height": 0.8,
        "width": 0.8,
        "x": 0.1,
        "y": 0.1
       },
       "content": {
        "cell": "66cf9a3d-37f2-4c99-9031-9608c6601a8b",
        "part": "whole"
       },
       "id": "9d16450e-4625-44f7-aef1-0ab702a38feb"
      }
     }
    },
    "9fb0f10b-bef0-4f50-9938-5de658203784": {
     "id": "9fb0f10b-bef0-4f50-9938-5de658203784",
     "prev": "0d7c6a2b-ef04-4b23-8024-a791d51b47c6",
     "regions": {
      "91d64b35-9688-4338-be37-5f46453d1625": {
       "attrs": {
        "height": 0.8,
        "width": 0.8,
        "x": 0.1,
        "y": 0.1
       },
       "content": {
        "cell": "35684543-33e6-4c4c-a8ea-66e888c50fa0",
        "part": "whole"
       },
       "id": "91d64b35-9688-4338-be37-5f46453d1625"
      }
     }
    },
    "a8a4cf22-5910-4bfa-b728-48498e8b8982": {
     "id": "a8a4cf22-5910-4bfa-b728-48498e8b8982",
     "prev": "7e7f483c-c99f-47f3-8e71-b68b8c191e17",
     "regions": {
      "797454ce-db92-44f2-b913-54fdcb087ec9": {
       "attrs": {
        "height": 0.8,
        "width": 0.8,
        "x": 0.1,
        "y": 0.1
       },
       "content": {
        "cell": "5bca488c-f82d-49c8-90c9-6a36cbfeff01",
        "part": "whole"
       },
       "id": "797454ce-db92-44f2-b913-54fdcb087ec9"
      }
     }
    },
    "b958e2b8-5e57-4963-991a-44d5fb0e3d84": {
     "id": "b958e2b8-5e57-4963-991a-44d5fb0e3d84",
     "prev": null,
     "regions": {
      "8172fc54-7b25-4828-9eb2-56ea5efaec35": {
       "attrs": {
        "height": 0.8,
        "width": 0.8,
        "x": 0.1,
        "y": 0.1
       },
       "content": {
        "cell": "7aa6dabc-975c-424b-9483-fca73898536b",
        "part": "whole"
       },
       "id": "8172fc54-7b25-4828-9eb2-56ea5efaec35"
      }
     }
    },
    "c136dd51-0fbf-449f-8387-0faf1ec70d55": {
     "id": "c136dd51-0fbf-449f-8387-0faf1ec70d55",
     "prev": "5b3db258-2783-41c8-9e60-41b6e01d9323",
     "regions": {
      "e75b9e89-54c1-4dc5-b971-b031b9e512d2": {
       "attrs": {
        "height": 0.8,
        "width": 0.8,
        "x": 0.1,
        "y": 0.1
       },
       "content": {
        "cell": "2faaf503-9102-43ea-b488-cf4dec3f9481",
        "part": "whole"
       },
       "id": "e75b9e89-54c1-4dc5-b971-b031b9e512d2"
      }
     }
    },
    "c9aca087-18be-487f-9d47-3237f22ed2ed": {
     "id": "c9aca087-18be-487f-9d47-3237f22ed2ed",
     "prev": "28072dd5-282f-4ccf-a0ce-d5c00f4bc5cc",
     "regions": {
      "2fddcc2b-a7db-434c-9c5e-e74468ba6de2": {
       "attrs": {
        "height": 0.8,
        "width": 0.8,
        "x": 0.1,
        "y": 0.1
       },
       "content": {
        "cell": "80f1707e-c4b3-4cd2-a60c-879b6f272e05",
        "part": "whole"
       },
       "id": "2fddcc2b-a7db-434c-9c5e-e74468ba6de2"
      }
     }
    },
    "cbb9dd53-3fc6-4775-8e9b-a97ed8ce93c2": {
     "id": "cbb9dd53-3fc6-4775-8e9b-a97ed8ce93c2",
     "prev": "f2e3a544-a320-49db-886f-d47dd9b58281",
     "regions": {
      "6f348173-c69d-4684-be1e-886c4fb66f6a": {
       "attrs": {
        "height": 0.8,
        "width": 0.8,
        "x": 0.1,
        "y": 0.1
       },
       "content": {
        "cell": "063b57a3-7bc6-4939-9e52-142c7fcf5e6a",
        "part": "whole"
       },
       "id": "6f348173-c69d-4684-be1e-886c4fb66f6a"
      }
     }
    },
    "cef9a5f8-3d0e-4e22-b026-1558623c4519": {
     "id": "cef9a5f8-3d0e-4e22-b026-1558623c4519",
     "prev": "f6352a8e-85d2-42d2-ad5e-b065e7c62c99",
     "regions": {
      "3b89c545-d4c2-449b-b05f-7637d22c22ca": {
       "attrs": {
        "height": 0.8,
        "width": 0.8,
        "x": 0.1,
        "y": 0.1
       },
       "content": {
        "cell": "b4d456a0-ef3a-4e44-b290-66f8a2972144",
        "part": "whole"
       },
       "id": "3b89c545-d4c2-449b-b05f-7637d22c22ca"
      }
     }
    },
    "d500b642-fd1c-4bea-a5ff-9ae5c06e9c4d": {
     "id": "d500b642-fd1c-4bea-a5ff-9ae5c06e9c4d",
     "prev": "d6cc89b3-e2e2-47e9-be7c-3c473cd39e53",
     "regions": {
      "3ef38f02-0314-4a0c-b2e9-33dfbcdbf301": {
       "attrs": {
        "height": 0.8,
        "width": 0.8,
        "x": 0.1,
        "y": 0.1
       },
       "content": {
        "cell": "8cd21057-4f39-4d0a-8bd7-81e90d186741",
        "part": "whole"
       },
       "id": "3ef38f02-0314-4a0c-b2e9-33dfbcdbf301"
      }
     }
    },
    "d6cc89b3-e2e2-47e9-be7c-3c473cd39e53": {
     "id": "d6cc89b3-e2e2-47e9-be7c-3c473cd39e53",
     "prev": "f559cd8c-bb67-47da-a0a2-f7e11ca30fa7",
     "regions": {
      "98cc863a-e2a6-4a56-a928-13291b7cdedb": {
       "attrs": {
        "height": 0.8,
        "width": 0.8,
        "x": 0.1,
        "y": 0.1
       },
       "content": {
        "cell": "ac275a22-b21c-4c9e-842d-456ec81bde06",
        "part": "whole"
       },
       "id": "98cc863a-e2a6-4a56-a928-13291b7cdedb"
      }
     }
    },
    "e95ee222-30e4-43a2-9500-92abb63bc8db": {
     "id": "e95ee222-30e4-43a2-9500-92abb63bc8db",
     "prev": "3565bedc-9d0e-44b1-b46e-70c52428caa6",
     "regions": {
      "edb5668d-d8da-45bd-89d5-7326df17753b": {
       "attrs": {
        "height": 0.8,
        "width": 0.8,
        "x": 0.1,
        "y": 0.1
       },
       "content": {
        "cell": "4663bba4-8300-484e-abd1-9467c883e640",
        "part": "whole"
       },
       "id": "edb5668d-d8da-45bd-89d5-7326df17753b"
      }
     }
    },
    "f2e3a544-a320-49db-886f-d47dd9b58281": {
     "id": "f2e3a544-a320-49db-886f-d47dd9b58281",
     "prev": "b958e2b8-5e57-4963-991a-44d5fb0e3d84",
     "regions": {
      "bfd8da25-fc74-4eed-9528-ca15e83d9437": {
       "attrs": {
        "height": 0.8,
        "width": 0.8,
        "x": 0.1,
        "y": 0.1
       },
       "content": {
        "cell": "5bfa9467-b2cf-4584-a050-a21a097344a2",
        "part": "whole"
       },
       "id": "bfd8da25-fc74-4eed-9528-ca15e83d9437"
      }
     }
    },
    "f559cd8c-bb67-47da-a0a2-f7e11ca30fa7": {
     "id": "f559cd8c-bb67-47da-a0a2-f7e11ca30fa7",
     "prev": "cbb9dd53-3fc6-4775-8e9b-a97ed8ce93c2",
     "regions": {
      "7b399407-9673-4c32-bd7a-89361f032c7e": {
       "attrs": {
        "height": 0.8,
        "width": 0.8,
        "x": 0.1,
        "y": 0.1
       },
       "content": {
        "cell": "a0a28b25-0e97-434e-b6ac-dea020cf1c5f",
        "part": "whole"
       },
       "id": "7b399407-9673-4c32-bd7a-89361f032c7e"
      }
     }
    },
    "f5f90efa-8f1d-4278-8aea-b85c43760c68": {
     "id": "f5f90efa-8f1d-4278-8aea-b85c43760c68",
     "prev": "516e219b-b903-4f9f-bbf1-6c116137de76",
     "regions": {
      "1483ae3f-c3f8-44e8-a2ca-e5979564fff9": {
       "attrs": {
        "height": 0.8,
        "width": 0.8,
        "x": 0.1,
        "y": 0.1
       },
       "content": {
        "cell": "f4efc486-2343-41c2-83d6-b1eeca9c91aa",
        "part": "whole"
       },
       "id": "1483ae3f-c3f8-44e8-a2ca-e5979564fff9"
      }
     }
    },
    "f6352a8e-85d2-42d2-ad5e-b065e7c62c99": {
     "id": "f6352a8e-85d2-42d2-ad5e-b065e7c62c99",
     "prev": "f5f90efa-8f1d-4278-8aea-b85c43760c68",
     "regions": {
      "b30b2f88-f501-4e5d-b950-8b56a29d9caa": {
       "attrs": {
        "height": 0.8,
        "width": 0.8,
        "x": 0.1,
        "y": 0.1
       },
       "content": {
        "cell": "8a37450d-54aa-4b05-9268-1c888e5dc276",
        "part": "whole"
       },
       "id": "b30b2f88-f501-4e5d-b950-8b56a29d9caa"
      }
     }
    }
   },
   "themes": {
    "default": "95269d02-7553-4af6-b0d4-433a154f1395",
    "theme": {
     "5f400e6c-42de-4712-951c-7b7e7c05021c": {
      "backgrounds": {
       "dc7afa04-bf90-40b1-82a5-726e3cff5267": {
        "background-color": "31af15d2-7e15-44c5-ab5e-e04b16a89eff",
        "id": "dc7afa04-bf90-40b1-82a5-726e3cff5267"
       }
      },
      "id": "5f400e6c-42de-4712-951c-7b7e7c05021c",
      "palette": {
       "19cc588f-0593-49c9-9f4b-e4d7cc113b1c": {
        "id": "19cc588f-0593-49c9-9f4b-e4d7cc113b1c",
        "rgb": [
         252,
         252,
         252
        ]
       },
       "31af15d2-7e15-44c5-ab5e-e04b16a89eff": {
        "id": "31af15d2-7e15-44c5-ab5e-e04b16a89eff",
        "rgb": [
         68,
         68,
         68
        ]
       },
       "50f92c45-a630-455b-aec3-788680ec7410": {
        "id": "50f92c45-a630-455b-aec3-788680ec7410",
        "rgb": [
         197,
         226,
         245
        ]
       },
       "c5cc3653-2ee1-402a-aba2-7caae1da4f6c": {
        "id": "c5cc3653-2ee1-402a-aba2-7caae1da4f6c",
        "rgb": [
         43,
         126,
         184
        ]
       },
       "efa7f048-9acb-414c-8b04-a26811511a21": {
        "id": "efa7f048-9acb-414c-8b04-a26811511a21",
        "rgb": [
         25.118061674008803,
         73.60176211453744,
         107.4819383259912
        ]
       }
      },
      "rules": {
       "a": {
        "color": "19cc588f-0593-49c9-9f4b-e4d7cc113b1c"
       },
       "blockquote": {
        "color": "50f92c45-a630-455b-aec3-788680ec7410",
        "font-size": 3
       },
       "code": {
        "font-family": "Anonymous Pro"
       },
       "h1": {
        "color": "19cc588f-0593-49c9-9f4b-e4d7cc113b1c",
        "font-family": "Merriweather",
        "font-size": 8
       },
       "h2": {
        "color": "19cc588f-0593-49c9-9f4b-e4d7cc113b1c",
        "font-family": "Merriweather",
        "font-size": 6
       },
       "h3": {
        "color": "50f92c45-a630-455b-aec3-788680ec7410",
        "font-family": "Lato",
        "font-size": 5.5
       },
       "h4": {
        "color": "c5cc3653-2ee1-402a-aba2-7caae1da4f6c",
        "font-family": "Lato",
        "font-size": 5
       },
       "h5": {
        "font-family": "Lato"
       },
       "h6": {
        "font-family": "Lato"
       },
       "h7": {
        "font-family": "Lato"
       },
       "li": {
        "color": "50f92c45-a630-455b-aec3-788680ec7410",
        "font-size": 3.25
       },
       "pre": {
        "font-family": "Anonymous Pro",
        "font-size": 4
       }
      },
      "text-base": {
       "color": "19cc588f-0593-49c9-9f4b-e4d7cc113b1c",
       "font-family": "Lato",
       "font-size": 4
      }
     },
     "95269d02-7553-4af6-b0d4-433a154f1395": {
      "id": "95269d02-7553-4af6-b0d4-433a154f1395",
      "palette": {
       "19cc588f-0593-49c9-9f4b-e4d7cc113b1c": {
        "id": "19cc588f-0593-49c9-9f4b-e4d7cc113b1c",
        "rgb": [
         252,
         252,
         252
        ]
       },
       "31af15d2-7e15-44c5-ab5e-e04b16a89eff": {
        "id": "31af15d2-7e15-44c5-ab5e-e04b16a89eff",
        "rgb": [
         68,
         68,
         68
        ]
       },
       "50f92c45-a630-455b-aec3-788680ec7410": {
        "id": "50f92c45-a630-455b-aec3-788680ec7410",
        "rgb": [
         155,
         177,
         192
        ]
       },
       "c5cc3653-2ee1-402a-aba2-7caae1da4f6c": {
        "id": "c5cc3653-2ee1-402a-aba2-7caae1da4f6c",
        "rgb": [
         43,
         126,
         184
        ]
       },
       "efa7f048-9acb-414c-8b04-a26811511a21": {
        "id": "efa7f048-9acb-414c-8b04-a26811511a21",
        "rgb": [
         25.118061674008803,
         73.60176211453744,
         107.4819383259912
        ]
       }
      },
      "rules": {
       "blockquote": {
        "color": "50f92c45-a630-455b-aec3-788680ec7410"
       },
       "code": {
        "font-family": "Anonymous Pro"
       },
       "h1": {
        "color": "c5cc3653-2ee1-402a-aba2-7caae1da4f6c",
        "font-family": "Lato",
        "font-size": 8
       },
       "h2": {
        "color": "c5cc3653-2ee1-402a-aba2-7caae1da4f6c",
        "font-family": "Lato",
        "font-size": 6
       },
       "h3": {
        "color": "50f92c45-a630-455b-aec3-788680ec7410",
        "font-family": "Lato",
        "font-size": 5.5
       },
       "h4": {
        "color": "c5cc3653-2ee1-402a-aba2-7caae1da4f6c",
        "font-family": "Lato",
        "font-size": 5
       },
       "h5": {
        "font-family": "Lato"
       },
       "h6": {
        "font-family": "Lato"
       },
       "h7": {
        "font-family": "Lato"
       },
       "pre": {
        "font-family": "Anonymous Pro",
        "font-size": 4
       }
      },
      "text-base": {
       "font-family": "Merriweather",
       "font-size": 4
      }
     }
    }
   }
  }
 },
 "nbformat": 4,
 "nbformat_minor": 1
}
